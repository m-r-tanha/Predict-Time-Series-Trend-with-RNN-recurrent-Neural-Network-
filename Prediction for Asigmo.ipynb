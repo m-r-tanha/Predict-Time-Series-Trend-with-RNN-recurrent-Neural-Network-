{
 "cells": [
  {
   "cell_type": "markdown",
   "metadata": {},
   "source": [
    "# Load the Packages"
   ]
  },
  {
   "cell_type": "code",
   "execution_count": null,
   "metadata": {},
   "outputs": [],
   "source": [
    "import numpy as np\n",
    "import matplotlib.pyplot as plt\n",
    "import pandas as pd\n",
    "import tensorflow as tf\n",
    "from keras.models import Sequential\n",
    "from keras.layers import Dense, LSTM, Dropout, RNN, GRU\n",
    "from sklearn.preprocessing import MinMaxScaler\n",
    "from sklearn.metrics import mean_squared_error\n",
    "import math\n",
    "from keras import backend as K"
   ]
  },
  {
   "cell_type": "markdown",
   "metadata": {},
   "source": [
    "# Define Confusion Matrix"
   ]
  },
  {
   "cell_type": "code",
   "execution_count": 4,
   "metadata": {},
   "outputs": [],
   "source": [
    "tf.compat.v1.get_default_graph()\n",
    "\n",
    "def recall_m(y_true, y_pred):\n",
    "        true_positives = K.sum(K.round(K.clip(y_true * y_pred, 0, 1)))\n",
    "        possible_positives = K.sum(K.round(K.clip(y_true, 0, 1)))\n",
    "        recall = true_positives / (possible_positives + K.epsilon())\n",
    "        return recall\n",
    "\n",
    "def precision_m(y_true, y_pred):\n",
    "        true_positives = K.sum(K.round(K.clip(y_true * y_pred, 0, 1)))\n",
    "        predicted_positives = K.sum(K.round(K.clip(y_pred, 0, 1)))\n",
    "        precision = true_positives / (predicted_positives + K.epsilon())\n",
    "        return precision\n",
    "\n",
    "def f1_m(y_true, y_pred):\n",
    "    precision = precision_m(y_true, y_pred)\n",
    "    recall = recall_m(y_true, y_pred)\n",
    "    return 2*((precision*recall)/(precision+recall+K.epsilon()))\n"
   ]
  },
  {
   "cell_type": "markdown",
   "metadata": {},
   "source": [
    "# Load and Prepare the Data"
   ]
  },
  {
   "cell_type": "code",
   "execution_count": null,
   "metadata": {},
   "outputs": [],
   "source": [
    "Train_Data = pd.read_excel(r\"Path of Excel file\",sheet_name='Adress the Train Sheet')\n",
    "Test_Data = pd.read_excel(r\"Path of Excel file\",sheet_name='Adress the Test Sheet')"
   ]
  },
  {
   "cell_type": "code",
   "execution_count": 6,
   "metadata": {},
   "outputs": [],
   "source": [
    "Predict_day=7 # This algorithm predicts for upcoming 7 days, this value can be changed based on your requirement\n",
    "MAX_Day=Train_Data.iloc[:,1:2].size # size of training dataset \n",
    "MAX_test=Test_Data.iloc[:,1:2].size # size of test dataset\n",
    "\n",
    "Test_df = Test_Data.iloc[:,1:2].values # Create Test Dataset \n",
    "Train_df= Train_Data.iloc[:,1:2].values # Create Train Dataset\n",
    "sc = MinMaxScaler() #Transform features by scaling each feature to a given range.\n",
    "RNN_input_Train_data = sc.fit_transform(Train_df) # Fit to data, then transform it.\n",
    "RNN_input_Test_data = sc.fit_transform(Test_df)\n",
    "\n",
    "X_train = RNN_input_Train_data[0:(MAX_Day-Predict_day)] # Provide Training Part by considering the Prediction day\n",
    "Y_train = RNN_input_Train_data[Predict_day:MAX_Day] # Provide Target Part by considering the Prediction day\n",
    "\n",
    "X_test = Test_df[0:(MAX_test-Predict_day)] # Provide Testing Part by considering the Prediction day\n",
    "Y_test = Test_df[Predict_day:MAX_test] # Provide Target Part by considering the Prediction day\n",
    "\n",
    "X_train = np.reshape(X_train,((MAX_Day-Predict_day),1,1))\n",
    "X_test = np.reshape(X_test,((MAX_test-Predict_day),1,1))\n"
   ]
  },
  {
   "cell_type": "markdown",
   "metadata": {},
   "source": [
    "# Different types of \"Activation function\", \"Loss Function\", and \"Optimizer\" Matrix"
   ]
  },
  {
   "cell_type": "code",
   "execution_count": 7,
   "metadata": {},
   "outputs": [],
   "source": [
    "# Different types of Activation Function\n",
    "activation_function=['sigmoid','relu','tanh','softmax']\n",
    "# Different types of Optimizer\n",
    "Optimizer_=['sgd','RMSprop','Adagrad', 'Adadelta', 'Adam', 'Adamax', 'Nadam']\n",
    "# Different types of Loss Function\n",
    "Loos_function=['squared_hinge','hinge','categorical_hinge','logcosh','mean_absolute_error','mean_squared_error','mean_absolute_percentage_error','mean_squared_logarithmic_error']\n",
    "\n",
    "RMSE=['Activation function','optimizer','RMSE']\n",
    "evalution=pd.DataFrame([['Activation function','optimizer','ERROR','loss', 'accuracy', 'f1_score', 'precision', 'recall']])"
   ]
  },
  {
   "cell_type": "markdown",
   "metadata": {},
   "source": [
    "# To evaluate each \"Activation function\", \"Loss Function\", and \"Optimizer\" have the best result, all these parameters have been defined and fitted to the RNN to compare the results"
   ]
  },
  {
   "cell_type": "code",
   "execution_count": null,
   "metadata": {},
   "outputs": [],
   "source": [
    "for j in Optimizer_: #Try to test all Optimizers and find the best\n",
    "    for i in activation_function: #Try to test all Activation Functions and find the best\n",
    "        for k in Loos_function: #Try to test all Loss Functions and find the best\n",
    "            # Define the Network\n",
    "            RNN_Model = Sequential()\n",
    "            RNN_Model.add(LSTM(units=45,activation=i,input_shape=(None,1)))\n",
    "            RNN_Model.add(Dropout(0.1))\n",
    "            RNN_Model.add(Dense(units=1))\n",
    "            RNN_Model.compile(optimizer = j, loss = k, metrics=['accuracy', f1_m,precision_m, recall_m])\n",
    "            History=RNN_Model.fit(X_train, Y_train, batch_size = 30, epochs = 100) \n",
    "            \n",
    "            # Training Process\n",
    "            inputs = Test_df\n",
    "            inputs = sc.transform(inputs)\n",
    "            inputs = np.reshape(inputs, (MAX_test, 1, 1))\n",
    "            predicted = RNN_Model.predict(inputs)\n",
    "            predicted = sc.inverse_transform(predicted)\n",
    "            \n",
    "            # Plot the Results\n",
    "            RNN_Model.predict_generator\n",
    "            plt.plot(Test_df, color = 'red', label = 'Real ')\n",
    "            plt.plot(predicted, color = 'blue', label = 'Predicted ')\n",
    "            title_='Activation function= '+i+'   optimizer='+j+'  Loos_Function= '+k\n",
    "            plt.title(title_)\n",
    "            plt.xlabel('Time')\n",
    "            plt.ylabel('Establish Success Rate')\n",
    "            plt.legend()\n",
    "            fig = plt.gcf()\n",
    "            fig.set_size_inches(10, 6)\n",
    "            plt.show()\n",
    "            rmse = math.sqrt(mean_squared_error(Test_df, predicted))\n",
    "            RMSE.append([i,j,rmse])\n",
    "            print (\"Error: \"+str(rmse))\n",
    "            evalu=pd.DataFrame([[i, j, k, rmse, History.history['loss'][epoch], History.history['accuracy'][epoch], History.history['f1_m'][epoch], History.history['precision_m'][epoch], History.history['recall_m'][epoch]]])\n",
    "            evalution=evalution.append(evalu)\n",
    "\n",
    "        print(evalu)\n"
   ]
  }
 ],
 "metadata": {
  "kernelspec": {
   "display_name": "Python 3",
   "language": "python",
   "name": "python3"
  },
  "language_info": {
   "codemirror_mode": {
    "name": "ipython",
    "version": 3
   },
   "file_extension": ".py",
   "mimetype": "text/x-python",
   "name": "python",
   "nbconvert_exporter": "python",
   "pygments_lexer": "ipython3",
   "version": "3.7.7"
  }
 },
 "nbformat": 4,
 "nbformat_minor": 2
}
