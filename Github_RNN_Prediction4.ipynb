{
 "cells": [
  {
   "cell_type": "markdown",
   "metadata": {},
   "source": [
    "# Load the Packages"
   ]
  },
  {
   "cell_type": "code",
   "execution_count": 5,
   "metadata": {
    "scrolled": false
   },
   "outputs": [],
   "source": [
    "import numpy as np\n",
    "import matplotlib.pyplot as plt\n",
    "import pandas as pd\n",
    "import tensorflow as tf\n",
    "from keras.models import Sequential\n",
    "from keras.layers import Dense, LSTM, Dropout, RNN, GRU\n",
    "from sklearn.preprocessing import MinMaxScaler\n",
    "from sklearn.metrics import mean_squared_error\n",
    "import math\n",
    "from keras import backend as K"
   ]
  },
  {
   "cell_type": "markdown",
   "metadata": {},
   "source": [
    "# Define Confusion Matrix"
   ]
  },
  {
   "cell_type": "code",
   "execution_count": null,
   "metadata": {},
   "outputs": [],
   "source": [
    "tf.compat.v1.get_default_graph()\n",
    "\n",
    "\n",
    "def recall_m(y_true, y_pred):\n",
    "        true_positives = K.sum(K.round(K.clip(y_true * y_pred, 0, 1)))\n",
    "        possible_positives = K.sum(K.round(K.clip(y_true, 0, 1)))\n",
    "        recall = true_positives / (possible_positives + K.epsilon())\n",
    "        return recall\n",
    "\n",
    "def precision_m(y_true, y_pred):\n",
    "        true_positives = K.sum(K.round(K.clip(y_true * y_pred, 0, 1)))\n",
    "        predicted_positives = K.sum(K.round(K.clip(y_pred, 0, 1)))\n",
    "        precision = true_positives / (predicted_positives + K.epsilon())\n",
    "        return precision\n",
    "\n",
    "def f1_m(y_true, y_pred):\n",
    "    precision = precision_m(y_true, y_pred)\n",
    "    recall = recall_m(y_true, y_pred)\n",
    "    return 2*((precision*recall)/(precision+recall+K.epsilon()))\n"
   ]
  },
  {
   "cell_type": "markdown",
   "metadata": {},
   "source": [
    "# Load and Prepare the Data"
   ]
  },
  {
   "cell_type": "code",
   "execution_count": null,
   "metadata": {},
   "outputs": [],
   "source": [
    "\n",
    "df = pd.read_excel(r\"\\Payload_4year_trend.xlsx\",sheet_name='Train')\n",
    "test_set = pd.read_excel(r\"\\Payload_4year_trend.xlsx\",sheet_name='Test')\n",
    "\n",
    "#df=Normalized(df)\n",
    "#test_set=Normalized (test_set)\n",
    "\n",
    "real_test = test_set.iloc[:,1:2].values\n",
    "input_data1= df.iloc[:,1:2].values\n",
    "sc = MinMaxScaler()\n",
    "input_data = sc.fit_transform(input_data1)\n",
    "\n",
    "X_train = input_data[0:1493] # 7 shows we predict 7 days \n",
    "Y_train = input_data[7:1500] # 7 shows we predict 7 days \n",
    "\n",
    "X_test = real_test[0:169]\n",
    "Y_test= real_test[7:176]\n",
    "\n",
    "X_train = np.reshape(X_train,(1493,1,1))\n",
    "X_test = np.reshape(X_test,(169,1,1))\n"
   ]
  },
  {
   "cell_type": "markdown",
   "metadata": {},
   "source": [
    "# To evaluate each \"Activation function\", \"Loss Function\", and \"Optimizer\" have the best result, all these parameters have been defined and fitted to the RNN to compare the results"
   ]
  },
  {
   "cell_type": "code",
   "execution_count": null,
   "metadata": {},
   "outputs": [],
   "source": [
    "\n",
    "activation_function=['sigmoid','relu','tanh','softmax']\n",
    "Optimizer_=['sgd','RMSprop','Adagrad', 'Adadelta', 'Adam', 'Adamax', 'Nadam']\n",
    "Loos_function=['squared_hinge','hinge','categorical_hinge','logcosh','mean_absolute_error','mean_squared_error','mean_absolute_percentage_error','mean_squared_logarithmic_error']\n",
    "\n",
    "RMSE=['Activation function','optimizer','RMSE']\n",
    "evalution=pd.DataFrame([['Activation function','optimizer','ERROR','loss', 'accuracy', 'f1_score', 'precision', 'recall']])\n"
   ]
  },
  {
   "cell_type": "code",
   "execution_count": null,
   "metadata": {},
   "outputs": [],
   "source": [
    "for j in Optimizer_:\n",
    "    for i in activation_function:\n",
    "        for k in Loos_function:\n",
    "            RNN_Model = Sequential()\n",
    "            RNN_Model.add(GRU(units=40,activation=i,input_shape=(None,1)))\n",
    "            RNN_Model.add(Dropout(0.1))\n",
    "            RNN_Model.add(Dense(units=1))\n",
    "            RNN_Model.compile(optimizer = j, loss = k, metrics=['accuracy', f1_m,precision_m, recall_m])\n",
    "            History=RNN_Model.fit(X_train, Y_train, batch_size = 10, epochs = 300) \n",
    "            epoch=1    \n",
    "            inputs = real_test\n",
    "            inputs = sc.transform(inputs)\n",
    "            inputs = np.reshape(inputs, (63, 1, 1))\n",
    "            predicted = RNN_Model.predict(inputs)\n",
    "            predicted = sc.inverse_transform(predicted)\n",
    "\n",
    "            RNN_Model.predict_generator\n",
    "            plt.plot(real_test, color = 'red', label = 'Real ')\n",
    "            plt.plot(predicted, color = 'blue', label = 'Predicted ')\n",
    "            title_='Activation function= '+i+'   optimizer='+j+'Loos_Function= '+k\n",
    "            plt.title(title_)\n",
    "            plt.xlabel('Time')\n",
    "            plt.ylabel('GByte')\n",
    "            plt.legend()\n",
    "            fig = plt.gcf()\n",
    "            fig.set_size_inches(10, 6)\n",
    "            plt.show()\n",
    "            rmse = math.sqrt(mean_squared_error(real_test, predicted))\n",
    "            RMSE.append([i,j,rmse])\n",
    "            print (\"Error: \"+str(rmse))\n",
    "            evalu=pd.DataFrame([[i, j, k, rmse, History.history['loss'][epoch], History.history['accuracy'][epoch], History.history['f1_m'][epoch], History.history['precision_m'][epoch], History.history['recall_m'][epoch]]])\n",
    "            evalution=evalution.append(evalu)\n",
    "\n",
    "        print(evalu)\n",
    "\n"
   ]
  },
  {
   "cell_type": "markdown",
   "metadata": {},
   "source": [
    "# Save to an Excel file"
   ]
  },
  {
   "cell_type": "code",
   "execution_count": 43,
   "metadata": {},
   "outputs": [],
   "source": [
    "evalu=pd.DataFrame(evalu)\n",
    "writer = pd.ExcelWriter('evalu.xlsx')   \n",
    "evalu.to_excel(writer,'result')\n",
    "\n",
    "writer.save()"
   ]
  }
 ],
 "metadata": {
  "kernelspec": {
   "display_name": "Python 3",
   "language": "python",
   "name": "python3"
  },
  "language_info": {
   "codemirror_mode": {
    "name": "ipython",
    "version": 3
   },
   "file_extension": ".py",
   "mimetype": "text/x-python",
   "name": "python",
   "nbconvert_exporter": "python",
   "pygments_lexer": "ipython3",
   "version": "3.7.4"
  }
 },
 "nbformat": 4,
 "nbformat_minor": 2
}
